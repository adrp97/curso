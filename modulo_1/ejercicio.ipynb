{
 "cells": [
  {
   "cell_type": "code",
   "execution_count": 3,
   "metadata": {},
   "outputs": [
    {
     "name": "stdout",
     "output_type": "stream",
     "text": [
      "Las coordenadas son: 62.23 N, 12.34 W\n"
     ]
    }
   ],
   "source": [
    "# Latitud y longitud\n",
    "\n",
    "latitud = float(input(\"Ingrese la coordenada de la latitud\"))\n",
    "longitud = float(input(\"Ingrese la coordenada de la longitud\"))\n",
    "\n",
    "print (f\"Las coordenadas son: {latitud:.2f} N, {longitud:.2f} W\")\n"
   ]
  },
  {
   "cell_type": "code",
   "execution_count": 6,
   "metadata": {},
   "outputs": [
    {
     "name": "stdout",
     "output_type": "stream",
     "text": [
      "Hola, Alba, bienvenido(a) a Python\n"
     ]
    }
   ],
   "source": [
    "# Bienvenida\n",
    "\n",
    "nombre = input(\"Ingrese su nombre\")\n",
    "\n",
    "print(f\"Hola, {nombre}, bienvenido(a) a Python\")"
   ]
  },
  {
   "cell_type": "code",
   "execution_count": 2,
   "metadata": {},
   "outputs": [
    {
     "name": "stdout",
     "output_type": "stream",
     "text": [
      "33.6°C es igual a 92.48°F\n"
     ]
    }
   ],
   "source": [
    "# Grados Celsius a Fahrenheit\n",
    "\n",
    "celsius = float(input(\"Ingrese la temperatura en grados Celsius\"))\n",
    "conversion = (celsius*1.8)+32\n",
    "\n",
    "print(f\"{celsius}°C es igual a {conversion}°F\")"
   ]
  }
 ],
 "metadata": {
  "kernelspec": {
   "display_name": "clase1",
   "language": "python",
   "name": "python3"
  },
  "language_info": {
   "codemirror_mode": {
    "name": "ipython",
    "version": 3
   },
   "file_extension": ".py",
   "mimetype": "text/x-python",
   "name": "python",
   "nbconvert_exporter": "python",
   "pygments_lexer": "ipython3",
   "version": "3.10.13"
  }
 },
 "nbformat": 4,
 "nbformat_minor": 2
}
